{
 "cells": [
  {
   "cell_type": "code",
   "execution_count": 1,
   "metadata": {},
   "outputs": [],
   "source": [
    "import pandas as pd"
   ]
  },
  {
   "cell_type": "code",
   "execution_count": null,
   "metadata": {},
   "outputs": [],
   "source": [
    "label_df = pd.DataFrame({\"Disease_Risk\": [\"Normal\", \"Abnormal\", \"Abnormal\", \"Normal\"]})\n",
    "label_df.head()"
   ]
  },
  {
   "cell_type": "code",
   "execution_count": null,
   "metadata": {},
   "outputs": [],
   "source": [
    "label_df[\"Disease_Risk\"] = label_df[\"Disease_Risk\"].map({\"Normal\": 0, \"Abnormal\" : 1})\n",
    "label_df.head()"
   ]
  },
  {
   "cell_type": "code",
   "execution_count": null,
   "metadata": {},
   "outputs": [],
   "source": [
    "from pandas import read_csv\n",
    "\n",
    "validation = read_csv(\"data/Evaluation_Set/RFMiD_Validation_Labels.csv\")\n",
    "validation.head()"
   ]
  },
  {
   "cell_type": "code",
   "execution_count": null,
   "metadata": {},
   "outputs": [],
   "source": [
    "validation[\"Disease_Risk\"].value_counts()"
   ]
  },
  {
   "cell_type": "code",
   "execution_count": null,
   "metadata": {},
   "outputs": [],
   "source": [
    "from pandas import read_csv\n",
    "\n",
    "training = read_csv(\"data/Training_Set/RFMiD_Training_Labels.csv\")\n",
    "training.head()"
   ]
  },
  {
   "cell_type": "code",
   "execution_count": null,
   "metadata": {},
   "outputs": [],
   "source": [
    "training[\"Disease_Risk\"].value_counts()"
   ]
  },
  {
   "cell_type": "code",
   "execution_count": null,
   "metadata": {},
   "outputs": [],
   "source": [
    "from pandas import read_csv\n",
    "\n",
    "testing = read_csv(\"data/Test_Set/RFMiD_Testing_Labels.csv\")\n",
    "testing.head()"
   ]
  },
  {
   "cell_type": "code",
   "execution_count": null,
   "metadata": {},
   "outputs": [],
   "source": [
    "testing[\"Disease_Risk\"].value_counts()"
   ]
  },
  {
   "cell_type": "code",
   "execution_count": null,
   "metadata": {},
   "outputs": [],
   "source": [
    "from pandas import concat\n",
    "\n",
    "normal_data = testing[testing[\"Disease_Risk\"] == 0]\n",
    "\n",
    "abnormal_data = testing[testing[\"Disease_Risk\"] == 1]\n",
    "\n",
    "abnormal_data_balanced = abnormal_data.sample(n=134)\n",
    "\n",
    "balanced_data = concat([normal_data, abnormal_data_balanced], axis = 0)\n",
    "\n",
    "balanced_data[\"Disease_Risk\"].value_counts()"
   ]
  },
  {
   "cell_type": "code",
   "execution_count": null,
   "metadata": {},
   "outputs": [],
   "source": [
    "import os\n",
    "\n",
    "# Create directories for normal and abnormal images if they don't exist\n",
    "os.makedirs(\"data/Test_Set/Test/Normal\", exist_ok=True)\n",
    "os.makedirs(\"data/Test_Set/Test/Abnormal\", exist_ok=True)\n",
    "\n",
    "\n",
    "for index, row in balanced_data.iterrows():\n",
    "    image_filename = str(row['ID']) + \".png\"  # Convert image filename to string\n",
    "    \n",
    "    # Source and destination paths for the image\n",
    "    source_path = os.path.join(\"data/Test_Set/Test/\", image_filename)\n",
    "    if row['Disease_Risk'] == 0:\n",
    "        destination_folder = \"data/Test_Set/Test/Normal\"\n",
    "    elif row['Disease_Risk'] == 1:\n",
    "        destination_folder = \"data/Test_Set/Test/Abnormal\"\n",
    "    destination_path = os.path.join(destination_folder, image_filename)\n",
    "    \n",
    "    print(\"Source Path:\", source_path)\n",
    "    print(\"Destination Path:\", destination_path)\n",
    "    \n",
    "    # Move the image to the appropriate directory\n",
    "    os.rename(source_path, destination_path)\n",
    "\n"
   ]
  },
  {
   "cell_type": "code",
   "execution_count": null,
   "metadata": {},
   "outputs": [],
   "source": [
    "from pandas import concat\n",
    "\n",
    "normal_data = training[training[\"Disease_Risk\"] == 0]\n",
    "\n",
    "abnormal_data = training[training[\"Disease_Risk\"] == 1]\n",
    "\n",
    "abnormal_data_balanced = abnormal_data.sample(n=401)\n",
    "\n",
    "balanced_data = concat([normal_data, abnormal_data_balanced], axis = 0)\n",
    "\n",
    "balanced_data[\"Disease_Risk\"].value_counts()"
   ]
  },
  {
   "cell_type": "code",
   "execution_count": null,
   "metadata": {},
   "outputs": [],
   "source": [
    "import os\n",
    "\n",
    "# Create directories for normal and abnormal images if they don't exist\n",
    "os.makedirs(\"data/Training_Set/Training/Normal\", exist_ok=True)\n",
    "os.makedirs(\"data/Training_Set/Training/Abnormal\", exist_ok=True)\n",
    "\n",
    "\n",
    "for index, row in balanced_data.iterrows():\n",
    "    image_filename = str(row['ID']) + \".png\"  # Convert image filename to string\n",
    "    \n",
    "    # Source and destination paths for the image\n",
    "    source_path = os.path.join(\"data/Training_Set/Training/\", image_filename)\n",
    "    if row['Disease_Risk'] == 0:\n",
    "        destination_folder = \"data/Training_Set/Training/Normal/\"\n",
    "    elif row['Disease_Risk'] == 1:\n",
    "        destination_folder = \"data/Training_Set/Training/Abnormal/\"\n",
    "    destination_path = os.path.join(destination_folder, image_filename)\n",
    "    \n",
    "    print(\"Source Path:\", source_path)\n",
    "    print(\"Destination Path:\", destination_path)\n",
    "    \n",
    "    # Move the image to the appropriate directory\n",
    "    os.rename(source_path, destination_path)\n",
    "\n"
   ]
  },
  {
   "cell_type": "code",
   "execution_count": null,
   "metadata": {},
   "outputs": [],
   "source": [
    "from pandas import concat\n",
    "\n",
    "normal_data = validation[validation[\"Disease_Risk\"] == 0]\n",
    "\n",
    "abnormal_data = validation[validation[\"Disease_Risk\"] == 1]\n",
    "\n",
    "abnormal_data_balanced = abnormal_data.sample(n=134)\n",
    "\n",
    "balanced_data = concat([normal_data, abnormal_data_balanced], axis = 0)\n",
    "\n",
    "balanced_data[\"Disease_Risk\"].value_counts()"
   ]
  },
  {
   "cell_type": "code",
   "execution_count": null,
   "metadata": {},
   "outputs": [],
   "source": [
    "import os\n",
    "\n",
    "# Create directories for normal and abnormal images if they don't exist\n",
    "os.makedirs(\"data/Evaluation_Set/Validation/Normal\", exist_ok=True)\n",
    "os.makedirs(\"data/Evaluation_Set/Validation/Abnormal\", exist_ok=True)\n",
    "\n",
    "\n",
    "for index, row in balanced_data.iterrows():\n",
    "    image_filename = str(row['ID']) + \".png\"  # Convert image filename to string\n",
    "    \n",
    "    # Source and destination paths for the image\n",
    "    source_path = os.path.join(\"data/Evaluation_Set/Validation/\", image_filename)\n",
    "    if row['Disease_Risk'] == 0:\n",
    "        destination_folder = \"data/Evaluation_Set/Validation/Normal\"\n",
    "    elif row['Disease_Risk'] == 1:\n",
    "        destination_folder = \"data/Evaluation_Set/Validation/Abnormal\"\n",
    "    destination_path = os.path.join(destination_folder, image_filename)\n",
    "    \n",
    "    print(\"Source Path:\", source_path)\n",
    "    print(\"Destination Path:\", destination_path)\n",
    "    \n",
    "    # Move the image to the appropriate directory\n",
    "    os.rename(source_path, destination_path)\n",
    "\n"
   ]
  }
 ],
 "metadata": {
  "kernelspec": {
   "display_name": "Python 3",
   "language": "python",
   "name": "python3"
  },
  "language_info": {
   "codemirror_mode": {
    "name": "ipython",
    "version": 3
   },
   "file_extension": ".py",
   "mimetype": "text/x-python",
   "name": "python",
   "nbconvert_exporter": "python",
   "pygments_lexer": "ipython3",
   "version": "3.12.0"
  }
 },
 "nbformat": 4,
 "nbformat_minor": 2
}
